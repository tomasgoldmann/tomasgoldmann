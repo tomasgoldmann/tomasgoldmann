    "## Assessment :\n",
    "* Exercise are mandatory part of teaching .\n",
    "* During semester, there will be 3 tests per semester , each of which is possible gain maximum 20 points , so the total is possible get 60 points .\n",
    "\n",
    "* Necessary condition for assessment is successful completion of each assessment test with minimum total gain of 50% of points (maximum 20\n",
    "points , minimum 10 points). Participation on tests is mandatory .\n",
    "\n",
    "* Every student has right take the test once again ( i.e. one ) corrective test). Corrective tests will take place in the credit week .\n",
    "\n",
    "* If the student will be unable to attend the test due to serious reasons ( illness ), he will apologized in writing before deadline test to the teacher and documented legitimacy your absence ( medical confirmation ), can to write a test in a substitutive term . The legitimity of exuse for corrective test and its term will be decided by the lecturer .\n",
    "\n",
    "* If the student fails to meet minimal condition at maximum one assessment test even for substitutive term , it is possible replace missing points by working out homework.\n",
    "* If the student fails to meet condition 10 points for two or more tests , he will not be granted assessment.\n",
    "\n",
    "## Exam :\n",
    "\n",
    "The exam can be participated only at registered assessment in KOS and after refistration of exam term also in KOS. The exam is mostly written and contains theoretical and numerical questions from lectures , exercises and homework. The exam consists of these tasks:\n",
    "1. Length of the test is about 60 minutes contains short questions from theory and simple computational tasks\n",
    "with maximal gain of 40 points . Out of 40 possible points is necessary gain at least 50%. Test in progress on computers and the student chooses correct answer from possible answers .\n",
    "2. Exemplary part of the length about 80 minutes usually contains two until three examples with maximum by gaining 40 points .\n",
    "* Out of 40 possible points is necessary gain at least 50%. It is possible to use any aids except any electronics.\n",
    "* Neither one example must not be rated at 0 points. In the case of evaluation of any example for 0 points the student fails.\n",
    "3. Oral part . Maximal gain 20 points . When poorly answered question and proof ignorance loss of max. 20 points .\n",
    "\n",
    "In sum credit points test and of all parts exams will arise resulting mark .\n",
    "\n",
    "| Sum points | Result stamp |\n",
    "--- | --- |\n",
    "|90-100 |A – excellent |\n",
    "|80-89| B – very good |\n",
    "|70-79| C – good |\n",
    "|60-69| D – satisfactory |\n",
    "|50-59| E – sufficient |\n",
    "|<50| F|\n"
   ]
  }
 ],
 "metadata": {
  "kernelspec": {
   "display_name": "Python 3 (ipykernel)",
   "language": "python",
   "name": "python3"
  },
  "language_info": {
   "codemirror_mode": {
    "name": "ipython",
    "version": 3
   },
   "file_extension": ".py",
   "mimetype": "text/x-python",
   "name": "python",
   "nbconvert_exporter": "python",
   "pygments_lexer": "ipython3",
   "version": "3.12.7"
  },
  "panel-cell-order": [
   "65f7f138-3fe2-44e2-8fa0-87105265aa96"
  ]
 },
 "nbformat": 4,
 "nbformat_minor": 5
}
