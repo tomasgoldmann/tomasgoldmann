## Zápočet:
* Cvičení jsou povinnou součástí výuky.
* Během semestru se uskuteční 3 testy, z každého je možné získat maximálně 20 bodů, celkem je tedy možné získat 60 bodů.

* Podmínkou získání zápočtu je úspěšné absolvování každého zápočtového testu s minimálním celkovým ziskem 50% bodů (maximum 20
bodů, minimum 10 bodů). Účast na testech je povinná.

* Každý student má právo absolvovat test jedenkrát znovu (tj. jeden opravný test). Opravné testy proběhnou v zápočtovém týdnu.

* Pokud se student nemohl z vážných důvodů (nemoc) testu zúčastnit, písemně se omluvil před termínem testu vyučujícímu a doložil oprávněnost své absence (lékařským potvrzením), může psát test v náhradním termínu. O oprávněnosti omluvy a termínu náhradného testu rozhoduje přednášející.

* Pokuď student nesplní miniální podmínku u maximálně jednoho zápočtového testu ani u opravného termínu, je možné nahradit chybějící body vypracováním domácího úkolu.
* Pokuď student nesplní podmínku 10 bodů u dva a více testů, nebude mu udělen zápočet. 

## Zkouška:

Zkoušky se lze účastnit pouze při zapsaném zápočtu v KOSu a po zaspání na termín. Zkouška je převážně písemná a obsahuje
jak teoretické, tak početní otázky z přednášek, cvičení a domácích úkolů. Zkouška se skládá z těchto
částí:
1. Test o délce cca 60 minut obsahuje krátké otázky z teorie a jednoduché výpočetní úlohy
s maximálním ziskem 40 bodů. Ze 40 možných bodů je nutné získat alespoň 50%. Test probíhá na počítačích a student volí správnou odpověď z možných odpovědí.
2. Příkladová část o délce cca 80 minut obvykle obsahuje dva až tři příklady s maximálním ziskem 40 bodů.
    * Ze 40 možných bodů je nutné získat alespoň 50%. Lze používat seznamy vzorců bez dalších vepsaných poznámek (oficiální tahák).
    * Ani jeden příklad nesmí být hodnocen 0 body. V případě hodnocení příkladu za 0 bodů student neuspěl. 
3. Ústní část. Lze získat 20 bodů. Při špatně zodpovězené otázce a prokázání neznalosti ztráta max. 20 bodů.

Součtem bodů ze zápočtového testu a ze všech částí zkoušky vznikne výsledná známka. 

| Součet bodů | Výsledná známka|
--- | --- |
|90-100 |A – výborně|
|80-89| B – velmi dobře|
|70-79| C – dobře|
|60-69| D – uspokojivě|
|50-59| E – dostatečně|
|<50| F|

